{
 "cells": [
  {
   "cell_type": "markdown",
   "id": "3fa5f2f7",
   "metadata": {},
   "source": [
    "# Data Science Tools and Ecosystem"
   ]
  },
  {
   "cell_type": "markdown",
   "id": "319f1647",
   "metadata": {},
   "source": [
    "__Objectives__: \n",
    "* List popular languages for Data Science\n",
    "* List of the commonly used libraries used by Data Scientist\n",
    "* Examples of evaluating arithmetic expressions in Python"
   ]
  },
  {
   "cell_type": "markdown",
   "id": "0902ee55",
   "metadata": {},
   "source": [
    "In this notebook, Data Science Tools and Ecosystem are summarized."
   ]
  },
  {
   "cell_type": "markdown",
   "id": "8ce114f5",
   "metadata": {},
   "source": [
    "# Some of the popular languages that Data Scientists use are:\n",
    "<br>\n",
    "\n",
    "1. __Python__: Python is one of the most widely used programming languages in data science due to its simplicity,    extensive libraries, and strong community support. Libraries like NumPy, Pandas, and Scikit-Learn make Python a go-to choice.\n",
    "<br>\n",
    "\n",
    "2. __R__: R is a language specifically designed for statistical computing and data analysis. It offers a wide range of statistical packages and visualization capabilities, making it a preferred language for statisticians and researchers.\n",
    "<br>\n",
    "\n",
    "3. __SQL (Structured Query Language)__: While not a general-purpose programming language like Python or R, SQL is essential for working with relational databases. Data scientists often use SQL to extract, transform, and analyze data stored in databases.\n",
    "<br>\n",
    "\n",
    "4. __Julia__: Julia is gaining popularity for its speed and efficiency in numerical and scientific computing. It provides a high-level syntax similar to Python but with the performance of low-level languages like C or Fortran.\n",
    "<br>\n",
    "\n",
    "5. __C/C++__: These low-level languages are used when performance is critical, such as developing highly optimized algorithms or integrating with systems written in these languages.\n",
    "<br>    "
   ]
  },
  {
   "cell_type": "markdown",
   "id": "77375ccb",
   "metadata": {},
   "source": [
    "# Some of the commonly used libraries used by Data Scientists include:\n",
    "<br>\n",
    "\n",
    "1. __NumPy__: For numerical computing and working with arrays and matrices.\n",
    "<br>\n",
    "\n",
    "2. __Pandas__: For data manipulation and analysis, providing powerful data structures like DataFrames.\n",
    "<br>\n",
    "\n",
    "3. __Matplotlib__: For creating static, animated, and interactive visualizations.\n",
    "<br>\n",
    "\n",
    "4. __Seaborn__: A data visualization library based on Matplotlib, offering a higher-level interface for creating informative and attractive statistical graphics.\n",
    "<br>\n",
    "\n",
    "5. __Scikit-Learn__: For machine learning tasks like classification, regression, clustering, and model evaluation.\n",
    "<br>\n",
    "\n",
    "6. __TensorFlow and PyTorch__: Deep learning frameworks for building and training neural networks.\n",
    "<br>"
   ]
  },
  {
   "cell_type": "markdown",
   "id": "f51acbcb",
   "metadata": {},
   "source": [
    "| Data Science Tools |\n",
    "|:------------------:|\n",
    "|Jupyter Notebook    |\n",
    "|RStudio             |\n",
    "|Apache Zeppelin     |"
   ]
  },
  {
   "cell_type": "markdown",
   "id": "374bb63d",
   "metadata": {},
   "source": [
    "### Below are a few examples of evaluating arithmetic expressions in Python:\n",
    "<br>\n",
    "\n",
    "This a simple arithmetic expression to mutiply then add integers\n"
   ]
  },
  {
   "cell_type": "code",
   "execution_count": 8,
   "id": "7922eb70",
   "metadata": {},
   "outputs": [
    {
     "data": {
      "text/plain": [
       "17"
      ]
     },
     "execution_count": 8,
     "metadata": {},
     "output_type": "execute_result"
    }
   ],
   "source": [
    "(3*4)+5"
   ]
  },
  {
   "cell_type": "markdown",
   "id": "1409b930",
   "metadata": {},
   "source": [
    "This will convert 200 minutes to hours by diving by 60"
   ]
  },
  {
   "cell_type": "code",
   "execution_count": 11,
   "id": "4b618ad9",
   "metadata": {},
   "outputs": [
    {
     "data": {
      "text/plain": [
       "3.3333333333333335"
      ]
     },
     "execution_count": 11,
     "metadata": {},
     "output_type": "execute_result"
    }
   ],
   "source": [
    "200 / 60"
   ]
  },
  {
   "cell_type": "markdown",
   "id": "3eab99f3",
   "metadata": {},
   "source": [
    "## Author"
   ]
  },
  {
   "cell_type": "markdown",
   "id": "1b0ed7a3",
   "metadata": {},
   "source": [
    "Reza Forouzandeh"
   ]
  },
  {
   "cell_type": "code",
   "execution_count": null,
   "id": "9d8f9144",
   "metadata": {},
   "outputs": [],
   "source": []
  }
 ],
 "metadata": {
  "kernelspec": {
   "display_name": "Python 3 (ipykernel)",
   "language": "python",
   "name": "python3"
  },
  "language_info": {
   "codemirror_mode": {
    "name": "ipython",
    "version": 3
   },
   "file_extension": ".py",
   "mimetype": "text/x-python",
   "name": "python",
   "nbconvert_exporter": "python",
   "pygments_lexer": "ipython3",
   "version": "3.10.9"
  }
 },
 "nbformat": 4,
 "nbformat_minor": 5
}
